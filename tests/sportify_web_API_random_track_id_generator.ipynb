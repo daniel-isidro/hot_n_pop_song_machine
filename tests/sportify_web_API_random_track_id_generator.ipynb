{
 "cells": [
  {
   "cell_type": "code",
   "execution_count": 29,
   "metadata": {},
   "outputs": [
    {
     "name": "stdout",
     "output_type": "stream",
     "text": [
      "env: SPOTIPY_CLIENT_ID=501b4799403a409f902c689964bf9f91\n",
      "env: SPOTIPY_CLIENT_SECRET=7a2657a368e14d7f8c647fc5c5523b08\n"
     ]
    }
   ],
   "source": [
    "%env SPOTIPY_CLIENT_ID=501b4799403a409f902c689964bf9f91\n",
    "%env SPOTIPY_CLIENT_SECRET=7a2657a368e14d7f8c647fc5c5523b08"
   ]
  },
  {
   "cell_type": "code",
   "execution_count": 13,
   "metadata": {},
   "outputs": [],
   "source": [
    "# Function to generate random Spotify track id\n",
    "# All id's have 22 characters, consist in digits, upper case and lower case letters, and astart with a digit\n",
    "\n",
    "import string\n",
    "import random\n",
    "def get_random_string(length):\n",
    "    random_list = []\n",
    "    \n",
    "    # First character always a digit\n",
    "    random_list.append(random.choice(string.digits))\n",
    "    \n",
    "    # The following 21 characters can be letters or digits\n",
    "    for i in range(length - 1):\n",
    "        random_list.append(random.choice(string.ascii_letters + string.digits))\n",
    "        \n",
    "    return ''.join(random_list)"
   ]
  },
  {
   "cell_type": "code",
   "execution_count": 26,
   "metadata": {
    "scrolled": true
   },
   "outputs": [
    {
     "name": "stdout",
     "output_type": "stream",
     "text": [
      "2976iMVnfprcf5gB00MwjT\n"
     ]
    }
   ],
   "source": [
    "print(get_random_string(22))"
   ]
  },
  {
   "cell_type": "code",
   "execution_count": null,
   "metadata": {},
   "outputs": [],
   "source": [
    "# The problem with this approach is that the random track id's generated are not existing"
   ]
  },
  {
   "cell_type": "code",
   "execution_count": 27,
   "metadata": {},
   "outputs": [],
   "source": [
    "# Let's try with another approach, using wildcards for pseudo-random search,\n",
    "# and offsetting between 0 and 1990 (max. offset allowed)"
   ]
  },
  {
   "cell_type": "code",
   "execution_count": 284,
   "metadata": {},
   "outputs": [
    {
     "name": "stdout",
     "output_type": "stream",
     "text": [
      "artist:  Ludwig van Beethoven \n",
      "song:  String Quartet No. 3 in D Major, Op. 18 No. 3: 3. Allegro \n",
      "album:  Eternal: Beethoven\n"
     ]
    }
   ],
   "source": [
    "import spotipy\n",
    "from spotipy.oauth2 import SpotifyClientCredentials\n",
    "\n",
    "sp = spotipy.Spotify(client_credentials_manager=SpotifyClientCredentials())\n",
    "\n",
    "search = sp.search(q='%' + random.choice(string.ascii_letters + string.digits) + '%',\n",
    "                   type='track',\n",
    "                   market='US', \n",
    "                   offset=random.randint(0,1990))\n",
    "\n",
    "print('artist: ',search['tracks']['items'][0]['artists'][0]['name'], \n",
    "      '\\nsong: ',search['tracks']['items'][0]['name'],\n",
    "      '\\nalbum: ',search['tracks']['items'][0]['album']['name'])"
   ]
  },
  {
   "cell_type": "code",
   "execution_count": null,
   "metadata": {},
   "outputs": [],
   "source": []
  }
 ],
 "metadata": {
  "kernelspec": {
   "display_name": "Python 3",
   "language": "python",
   "name": "python3"
  },
  "language_info": {
   "codemirror_mode": {
    "name": "ipython",
    "version": 3
   },
   "file_extension": ".py",
   "mimetype": "text/x-python",
   "name": "python",
   "nbconvert_exporter": "python",
   "pygments_lexer": "ipython3",
   "version": "3.7.7"
  }
 },
 "nbformat": 4,
 "nbformat_minor": 4
}
