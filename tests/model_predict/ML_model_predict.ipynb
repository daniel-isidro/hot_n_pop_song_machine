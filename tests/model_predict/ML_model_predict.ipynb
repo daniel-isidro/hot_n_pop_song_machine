{
 "cells": [
  {
   "cell_type": "markdown",
   "metadata": {},
   "source": [
    "### Loading the model"
   ]
  },
  {
   "cell_type": "code",
   "execution_count": 1,
   "metadata": {},
   "outputs": [],
   "source": [
    "import pickle\n",
    "import numpy as np\n",
    "import pandas as pd\n",
    "import json\n",
    "import os"
   ]
  },
  {
   "cell_type": "code",
   "execution_count": 3,
   "metadata": {
    "scrolled": true
   },
   "outputs": [
    {
     "data": {
      "text/plain": [
       "GridSearchCV(cv=3, error_score=nan,\n",
       "             estimator=DecisionTreeClassifier(ccp_alpha=0.0, class_weight=None,\n",
       "                                              criterion='gini', max_depth=None,\n",
       "                                              max_features=None,\n",
       "                                              max_leaf_nodes=None,\n",
       "                                              min_impurity_decrease=0.0,\n",
       "                                              min_impurity_split=None,\n",
       "                                              min_samples_leaf=1,\n",
       "                                              min_samples_split=2,\n",
       "                                              min_weight_fraction_leaf=0.0,\n",
       "                                              presort='deprecated',\n",
       "                                              random_state=None,\n",
       "                                              splitter='best'),\n",
       "             iid='deprecated', n_jobs=-1,\n",
       "             param_grid={'max_depth': array([ 2,  3,  4,  5,  6,  7,  8,  9, 10, 11, 12, 13, 14, 15, 16, 17, 18,\n",
       "       19]),\n",
       "                         'min_samples_leaf': array([20, 40, 60, 80])},\n",
       "             pre_dispatch='2*n_jobs', refit=True, return_train_score=False,\n",
       "             scoring='accuracy', verbose=0)"
      ]
     },
     "execution_count": 3,
     "metadata": {},
     "output_type": "execute_result"
    }
   ],
   "source": [
    "model = pickle.load(open(\"../model_train/model.pkl\",\"rb\"))\n",
    "model"
   ]
  },
  {
   "cell_type": "markdown",
   "metadata": {},
   "source": [
    "Predicting target='success' with two X features: 'energy' and 'danceability'"
   ]
  },
  {
   "cell_type": "code",
   "execution_count": 4,
   "metadata": {},
   "outputs": [
    {
     "name": "stdout",
     "output_type": "stream",
     "text": [
      "[1.]\n"
     ]
    }
   ],
   "source": [
    "# Testing known succesful song. It correctly predicts it\n",
    "\n",
    "print(model.predict([[0.878, 0.619]]))"
   ]
  },
  {
   "cell_type": "code",
   "execution_count": 5,
   "metadata": {},
   "outputs": [
    {
     "name": "stdout",
     "output_type": "stream",
     "text": [
      "[0.]\n"
     ]
    }
   ],
   "source": [
    "# Testing known unsuccesful song. It correctly predicts it\n",
    "\n",
    "print(model.predict([[0.583, 0.769]]))"
   ]
  },
  {
   "cell_type": "markdown",
   "metadata": {},
   "source": [
    "Let's use Spotify Web API to get audio features of a new song and predicting its success with the trained model"
   ]
  },
  {
   "cell_type": "code",
   "execution_count": 7,
   "metadata": {},
   "outputs": [],
   "source": [
    "# Reading Spotify web API credentials from settings.env hidden file\n",
    "\n",
    "with open('../settings.env') as f:\n",
    "    env_vars = json.loads(f.read())"
   ]
  },
  {
   "cell_type": "code",
   "execution_count": 8,
   "metadata": {},
   "outputs": [],
   "source": [
    "# Set environment variables\n",
    "os.environ['SPOTIPY_CLIENT_ID'] = env_vars['SPOTIPY_CLIENT_ID']\n",
    "os.environ['SPOTIPY_CLIENT_SECRET'] = env_vars['SPOTIPY_CLIENT_SECRET']"
   ]
  },
  {
   "cell_type": "code",
   "execution_count": 14,
   "metadata": {},
   "outputs": [],
   "source": [
    "import spotipy\n",
    "from spotipy.oauth2 import SpotifyClientCredentials\n",
    "\n",
    "sp = spotipy.Spotify(client_credentials_manager=SpotifyClientCredentials())\n",
    "\n",
    "query = 'you oughta know'\n",
    "\n",
    "search = sp.search(q = query, type='track', market='US')\n",
    "\n",
    "#print('artist: ',search['tracks']['items'][0]['artists'][0]['name'], \n",
    "#      '\\nsong: ',search['tracks']['items'][0]['name'],\n",
    "#      '\\nalbum: ',search['tracks']['items'][0]['album']['name'],\n",
    "#      '\\ntrack_id: ',search['tracks']['items'][0]['id'])"
   ]
  },
  {
   "cell_type": "code",
   "execution_count": 16,
   "metadata": {},
   "outputs": [
    {
     "name": "stdout",
     "output_type": "stream",
     "text": [
      "artist:  Alanis Morissette \n",
      "song:  You Oughta Know - 2015 Remaster \n",
      "album:  Jagged Little Pill (2015 Remaster) \n",
      "track_id:  3jS7bB0oXVOwGFZn3aE5NV\n"
     ]
    }
   ],
   "source": [
    "print('artist: ',search['tracks']['items'][0]['artists'][0]['name'], \n",
    "      '\\nsong: ',search['tracks']['items'][0]['name'],\n",
    "      '\\nalbum: ',search['tracks']['items'][0]['album']['name'],\n",
    "      '\\ntrack_id: ',search['tracks']['items'][0]['id'])\n",
    "\n",
    "track_id = search['tracks']['items'][0]['id']"
   ]
  },
  {
   "cell_type": "markdown",
   "metadata": {},
   "source": [
    "Now let's find the values of the first two audio_features (danceability and energy) for that song"
   ]
  },
  {
   "cell_type": "code",
   "execution_count": 25,
   "metadata": {},
   "outputs": [
    {
     "data": {
      "text/plain": [
       "[{'danceability': 0.665,\n",
       "  'energy': 0.834,\n",
       "  'key': 4,\n",
       "  'loudness': -7.737,\n",
       "  'mode': 1,\n",
       "  'speechiness': 0.0576,\n",
       "  'acousticness': 0.21,\n",
       "  'instrumentalness': 0,\n",
       "  'liveness': 0.452,\n",
       "  'valence': 0.411,\n",
       "  'tempo': 105.292,\n",
       "  'type': 'audio_features',\n",
       "  'id': '3jS7bB0oXVOwGFZn3aE5NV',\n",
       "  'uri': 'spotify:track:3jS7bB0oXVOwGFZn3aE5NV',\n",
       "  'track_href': 'https://api.spotify.com/v1/tracks/3jS7bB0oXVOwGFZn3aE5NV',\n",
       "  'analysis_url': 'https://api.spotify.com/v1/audio-analysis/3jS7bB0oXVOwGFZn3aE5NV',\n",
       "  'duration_ms': 249493,\n",
       "  'time_signature': 4}]"
      ]
     },
     "execution_count": 25,
     "metadata": {},
     "output_type": "execute_result"
    }
   ],
   "source": [
    "audio_features = sp.audio_features(track_id)\n",
    "audio_features"
   ]
  },
  {
   "cell_type": "code",
   "execution_count": 41,
   "metadata": {},
   "outputs": [
    {
     "name": "stdout",
     "output_type": "stream",
     "text": [
      "0.719\n",
      "0.704\n"
     ]
    }
   ],
   "source": [
    "print(audio_features[0]['danceability'])\n",
    "print(audio_features[0]['energy'])"
   ]
  },
  {
   "cell_type": "markdown",
   "metadata": {},
   "source": [
    "Now let's find the prediction for the track with those features"
   ]
  },
  {
   "cell_type": "code",
   "execution_count": 27,
   "metadata": {},
   "outputs": [
    {
     "name": "stdout",
     "output_type": "stream",
     "text": [
      "[0.]\n"
     ]
    }
   ],
   "source": [
    "print(model.predict([[audio_features[0]['danceability'], audio_features[0]['energy']]]))"
   ]
  },
  {
   "cell_type": "markdown",
   "metadata": {},
   "source": [
    "The result for 'You Oughta Know', a hit track from 1996, is 0, unsuccessful, but we know we have to improve the model prototype as it only evaluates 100 succesful songs."
   ]
  },
  {
   "cell_type": "markdown",
   "metadata": {},
   "source": [
    "Let's predict the success of a hit song that is already in the model"
   ]
  },
  {
   "cell_type": "code",
   "execution_count": 38,
   "metadata": {},
   "outputs": [],
   "source": [
    "# Trying to condense the query in one search line\n",
    "\n",
    "import spotipy\n",
    "from spotipy.oauth2 import SpotifyClientCredentials\n",
    "\n",
    "sp = spotipy.Spotify(client_credentials_manager=SpotifyClientCredentials())\n",
    "\n",
    "query = 'sweet but psycho'\n",
    "\n",
    "audio_features = sp.audio_features((sp.search(q = query, type='track', market='US'))['tracks']['items'][0]['id'])"
   ]
  },
  {
   "cell_type": "code",
   "execution_count": 40,
   "metadata": {},
   "outputs": [
    {
     "name": "stdout",
     "output_type": "stream",
     "text": [
      "[1.]\n"
     ]
    }
   ],
   "source": [
    "print(model.predict([[audio_features[0]['danceability'], audio_features[0]['energy']]]))"
   ]
  },
  {
   "cell_type": "code",
   "execution_count": null,
   "metadata": {},
   "outputs": [],
   "source": []
  }
 ],
 "metadata": {
  "kernelspec": {
   "display_name": "Python 3",
   "language": "python",
   "name": "python3"
  },
  "language_info": {
   "codemirror_mode": {
    "name": "ipython",
    "version": 3
   },
   "file_extension": ".py",
   "mimetype": "text/x-python",
   "name": "python",
   "nbconvert_exporter": "python",
   "pygments_lexer": "ipython3",
   "version": "3.7.7"
  }
 },
 "nbformat": 4,
 "nbformat_minor": 4
}
