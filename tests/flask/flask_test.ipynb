{
 "cells": [
  {
   "cell_type": "code",
   "execution_count": null,
   "metadata": {},
   "outputs": [],
   "source": [
    "# flask 'hello world'\n",
    "\n",
    "from flask import Flask\n",
    "\n",
    "app = Flask(__name__)\n",
    "\n",
    "@app.route('/', methods=['GET', 'POST'])\n",
    "\n",
    "def main():\n",
    "    return str('Hello World!!')\n",
    "\n",
    "if __name__=='__main__':\n",
    "    app.run()"
   ]
  },
  {
   "cell_type": "code",
   "execution_count": 1,
   "metadata": {},
   "outputs": [],
   "source": [
    "# Let's try with our model"
   ]
  },
  {
   "cell_type": "code",
   "execution_count": 2,
   "metadata": {},
   "outputs": [
    {
     "name": "stdout",
     "output_type": "stream",
     "text": [
      " * Serving Flask app \"__main__\" (lazy loading)\n",
      " * Environment: production\n",
      "\u001b[31m   WARNING: This is a development server. Do not use it in a production deployment.\u001b[0m\n",
      "\u001b[2m   Use a production WSGI server instead.\u001b[0m\n",
      " * Debug mode: off\n"
     ]
    },
    {
     "name": "stderr",
     "output_type": "stream",
     "text": [
      " * Running on http://127.0.0.1:5000/ (Press CTRL+C to quit)\n",
      "127.0.0.1 - - [26/Jun/2020 10:04:49] \"\u001b[37mGET / HTTP/1.1\u001b[0m\" 200 -\n",
      "127.0.0.1 - - [26/Jun/2020 10:04:55] \"\u001b[37mPOST /getsuccess HTTP/1.1\u001b[0m\" 200 -\n",
      "127.0.0.1 - - [26/Jun/2020 10:05:04] \"\u001b[37mGET / HTTP/1.1\u001b[0m\" 200 -\n",
      "127.0.0.1 - - [26/Jun/2020 10:05:04] \"\u001b[37mGET / HTTP/1.1\u001b[0m\" 200 -\n",
      "127.0.0.1 - - [26/Jun/2020 10:05:09] \"\u001b[37mPOST /getsuccess HTTP/1.1\u001b[0m\" 200 -\n",
      "127.0.0.1 - - [26/Jun/2020 10:05:16] \"\u001b[37mGET / HTTP/1.1\u001b[0m\" 200 -\n"
     ]
    }
   ],
   "source": [
    "from flask import Flask, request, render_template\n",
    "import pickle\n",
    "import numpy as np\n",
    "import pandas as pd\n",
    "import json\n",
    "import os\n",
    "import spotipy\n",
    "\n",
    "app = Flask(__name__)\n",
    "\n",
    "@app.route('/')\n",
    "def home():\n",
    "    return render_template('home.html')\n",
    "\n",
    "@app.route('/getsuccess', methods=['POST', 'GET'])\n",
    "def get_success():\n",
    "    if request.method=='POST':\n",
    "        \n",
    "        #query comes from the home.html webpage, it is a dictionary with key 'result'\n",
    "        query=request.form['result']\n",
    "        \n",
    "        model = pickle.load(open(\"../model_train/model.pkl\",\"rb\"))\n",
    "\n",
    "        # Spotify credentials\n",
    "        with open('../settings.env') as f: \n",
    "            env_vars = json.loads(f.read())    \n",
    "        os.environ['SPOTIPY_CLIENT_ID'] = env_vars['SPOTIPY_CLIENT_ID']\n",
    "        os.environ['SPOTIPY_CLIENT_SECRET'] = env_vars['SPOTIPY_CLIENT_SECRET']    \n",
    "        from spotipy.oauth2 import SpotifyClientCredentials\n",
    "        sp = spotipy.Spotify(client_credentials_manager=SpotifyClientCredentials())\n",
    "\n",
    "        # Spotify search\n",
    "        audio_features = sp.audio_features(sp.search(q=query, type='track', market='US')['tracks']['items'][0]['id'])\n",
    "    \n",
    "        # Model prediction\n",
    "        model_predict = model.predict([[audio_features[0]['danceability'], audio_features[0]['energy']]])\n",
    "        \n",
    "        # flask requires returning model_predict variable as string type to be put into result.html webpage\n",
    "        return render_template('result.html', prediction=str(model_predict[0]))\n",
    "    \n",
    "if __name__=='__main__':\n",
    "    app.run()"
   ]
  },
  {
   "cell_type": "code",
   "execution_count": null,
   "metadata": {},
   "outputs": [],
   "source": []
  }
 ],
 "metadata": {
  "kernelspec": {
   "display_name": "Python 3",
   "language": "python",
   "name": "python3"
  },
  "language_info": {
   "codemirror_mode": {
    "name": "ipython",
    "version": 3
   },
   "file_extension": ".py",
   "mimetype": "text/x-python",
   "name": "python",
   "nbconvert_exporter": "python",
   "pygments_lexer": "ipython3",
   "version": "3.7.7"
  }
 },
 "nbformat": 4,
 "nbformat_minor": 4
}
