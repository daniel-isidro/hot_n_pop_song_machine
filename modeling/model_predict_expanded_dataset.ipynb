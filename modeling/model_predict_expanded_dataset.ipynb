{
 "cells": [
  {
   "cell_type": "code",
   "execution_count": 6,
   "metadata": {},
   "outputs": [
    {
     "name": "stdout",
     "output_type": "stream",
     "text": [
      "Enter song name or artist + song name:\n",
      "massive attach protection\n",
      "NOT HOT\n",
      "Probability: 98 %\n",
      "Artist:  Massive Attack\n",
      "Song:    Protection\n",
      "Album:   Protection\n",
      "Date:    1994\n",
      "https://i.scdn.co/image/ab67616d00001e02b129ba321c1903f9990a2612\n",
      "None\n"
     ]
    }
   ],
   "source": [
    "import pickle\n",
    "import numpy as np\n",
    "import pandas as pd\n",
    "import json\n",
    "import os\n",
    "import spotipy\n",
    "from spotipy.oauth2 import SpotifyClientCredentials\n",
    "\n",
    "model = pickle.load(open(\"model2.pkl\",\"rb\"))\n",
    "\n",
    "with open('../spotify_api/settings.env') as f:\n",
    "    env_vars = json.loads(f.read())\n",
    "os.environ['SPOTIPY_CLIENT_ID'] = env_vars['SPOTIPY_CLIENT_ID']\n",
    "os.environ['SPOTIPY_CLIENT_SECRET'] = env_vars['SPOTIPY_CLIENT_SECRET']\n",
    "\n",
    "sp = spotipy.Spotify(client_credentials_manager=SpotifyClientCredentials())\n",
    "\n",
    "print('Enter song name or artist + song name:')\n",
    "\n",
    "query = input()\n",
    "\n",
    "audio_features = sp.audio_features((sp.search(q = query, type='track', market='US'))['tracks']['items'][0]['id'])\n",
    "\n",
    "X = pd.json_normalize(audio_features[0])\n",
    "\n",
    "#Dropped 'energy' in current model\n",
    "X_clean = X.drop(['energy', 'type', 'id', 'uri', 'track_href', 'analysis_url'], axis=1)\n",
    "\n",
    "if (model.predict(X_clean)[0])==0:\n",
    "    print('NOT HOT\\nProbability: %.0f' % ((model.predict_proba(X_clean)[0][0])*100), '%')\n",
    "else:\n",
    "    print('HOT!!!\\nProbability: %.0f' % ((model.predict_proba(X_clean)[0][1])*100), '%')\n",
    "\n",
    "track = sp.track( X['id'][0] )\n",
    "\n",
    "print('Artist: ', pd.json_normalize(track)['artists'][0][0]['name'])\n",
    "print('Song:   ', pd.json_normalize(track)['name'][0])\n",
    "print('Album:  ', pd.json_normalize(track)['album.name'][0])\n",
    "print('Date:   ', pd.json_normalize(track)['album.release_date'][0][0:4])\n",
    "print(pd.json_normalize(track)['album.images'][0][1]['url'])\n",
    "print(pd.json_normalize(track)['preview_url'][0])"
   ]
  },
  {
   "cell_type": "code",
   "execution_count": null,
   "metadata": {},
   "outputs": [],
   "source": []
  }
 ],
 "metadata": {
  "kernelspec": {
   "display_name": "Python 3",
   "language": "python",
   "name": "python3"
  },
  "language_info": {
   "codemirror_mode": {
    "name": "ipython",
    "version": 3
   },
   "file_extension": ".py",
   "mimetype": "text/x-python",
   "name": "python",
   "nbconvert_exporter": "python",
   "pygments_lexer": "ipython3",
   "version": "3.7.7"
  }
 },
 "nbformat": 4,
 "nbformat_minor": 4
}
