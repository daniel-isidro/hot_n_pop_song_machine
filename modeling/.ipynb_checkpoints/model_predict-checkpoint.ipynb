{
 "cells": [
  {
   "cell_type": "markdown",
   "metadata": {},
   "source": [
    "### Search with input dialog in the Jupyter notebook"
   ]
  },
  {
   "cell_type": "code",
   "execution_count": 2,
   "metadata": {},
   "outputs": [
    {
     "name": "stdout",
     "output_type": "stream",
     "text": [
      "Enter song name or artist + song name:\n",
      "juice\n",
      "HOT!!!\n",
      "Probability: 94 %\n",
      "Artist:  Lizzo\n",
      "Song:    Juice\n",
      "Album:   Cuz I Love You\n",
      "Date:    2019\n",
      "https://i.scdn.co/image/ab67616d00001e0206af802e2ea241b6ba1ce0f2\n",
      "https://p.scdn.co/mp3-preview/7ca1598cec36c49118562b02491b9a030e233d88?cid=501b4799403a409f902c689964bf9f91\n"
     ]
    }
   ],
   "source": [
    "import pickle\n",
    "import numpy as np\n",
    "import pandas as pd\n",
    "import json\n",
    "import os\n",
    "import spotipy\n",
    "from spotipy.oauth2 import SpotifyClientCredentials\n",
    "\n",
    "model = pickle.load(open(\"model.pkl\",\"rb\"))\n",
    "\n",
    "# Reading Spotify web API credentials from settings.env hidden file\n",
    "with open('../spotify_api/settings.env') as f:\n",
    "    env_vars = json.loads(f.read())\n",
    "os.environ['SPOTIPY_CLIENT_ID'] = env_vars['SPOTIPY_CLIENT_ID']\n",
    "os.environ['SPOTIPY_CLIENT_SECRET'] = env_vars['SPOTIPY_CLIENT_SECRET']\n",
    "\n",
    "sp = spotipy.Spotify(client_credentials_manager=SpotifyClientCredentials())\n",
    "\n",
    "print('Enter song name or artist + song name:')\n",
    "\n",
    "query = input()\n",
    "\n",
    "audio_features = sp.audio_features((sp.search(q = query, type='track', market='US'))['tracks']['items'][0]['id'])\n",
    "\n",
    "X = pd.json_normalize(audio_features[0])\n",
    "\n",
    "X_clean = X.drop(['type', 'id', 'uri', 'track_href', 'analysis_url'], axis=1)\n",
    "\n",
    "# We refine the prediction adding its probability with model.predict_proba(X_clean)\n",
    "\n",
    "if (model.predict(X_clean)[0])==0:\n",
    "    print('NOT HOT\\nProbability: %.0f' % ((model.predict_proba(X_clean)[0][0])*100), '%')\n",
    "else:\n",
    "    print('HOT!!!\\nProbability: %.0f' % ((model.predict_proba(X_clean)[0][1])*100), '%')\n",
    "\n",
    "track = sp.track( X['id'][0] )\n",
    "\n",
    "print('Artist: ', pd.json_normalize(track)['artists'][0][0]['name'])\n",
    "print('Song:   ', pd.json_normalize(track)['name'][0])\n",
    "print('Album:  ', pd.json_normalize(track)['album.name'][0])\n",
    "print('Date:   ', pd.json_normalize(track)['album.release_date'][0][0:4])\n",
    "# We add a link to the album cover\n",
    "print(pd.json_normalize(track)['album.images'][0][1]['url'])\n",
    "# We add a link to the MP3 audio sample, if available\n",
    "print(pd.json_normalize(track)['preview_url'][0])"
   ]
  }
 ],
 "metadata": {
  "kernelspec": {
   "display_name": "Python 3",
   "language": "python",
   "name": "python3"
  },
  "language_info": {
   "codemirror_mode": {
    "name": "ipython",
    "version": 3
   },
   "file_extension": ".py",
   "mimetype": "text/x-python",
   "name": "python",
   "nbconvert_exporter": "python",
   "pygments_lexer": "ipython3",
   "version": "3.7.7"
  }
 },
 "nbformat": 4,
 "nbformat_minor": 4
}
