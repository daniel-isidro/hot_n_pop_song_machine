{
 "cells": [
  {
   "cell_type": "markdown",
   "metadata": {},
   "source": [
    "## Loading the model\n",
    "### Loading the model"
   ]
  },
  {
   "cell_type": "code",
   "execution_count": 1,
   "metadata": {},
   "outputs": [],
   "source": [
    "import pickle\n",
    "import numpy as np\n",
    "import pandas as pd\n",
    "import json\n",
    "import os"
   ]
  },
  {
   "cell_type": "code",
   "execution_count": 2,
   "metadata": {
    "scrolled": true
   },
   "outputs": [
    {
     "data": {
      "text/plain": [
       "GridSearchCV(cv=None, error_score=nan,\n",
       "             estimator=Pipeline(memory=None,\n",
       "                                steps=[('preprocessor',\n",
       "                                        ColumnTransformer(n_jobs=None,\n",
       "                                                          remainder='drop',\n",
       "                                                          sparse_threshold=0.3,\n",
       "                                                          transformer_weights=None,\n",
       "                                                          transformers=[('num',\n",
       "                                                                         Pipeline(memory=None,\n",
       "                                                                                  steps=[('imputer',\n",
       "                                                                                          SimpleImputer(add_indicator=False,\n",
       "                                                                                                        copy=True,\n",
       "                                                                                                        fill_value=None,\n",
       "                                                                                                        missing_values=nan,\n",
       "                                                                                                        strategy='median',\n",
       "                                                                                                        verbose=0...\n",
       "                                                      verbosity=1))],\n",
       "                                verbose=False),\n",
       "             iid='deprecated', n_jobs=-1,\n",
       "             param_grid={'classifier__colsample_bytree': [0.8, 1],\n",
       "                         'classifier__gamma': [1],\n",
       "                         'classifier__learning_rate': [0.1, 0.01],\n",
       "                         'classifier__max_depth': [3, 4, 5],\n",
       "                         'classifier__n_estimators': [1000],\n",
       "                         'classifier__subsample': [0.8, 1]},\n",
       "             pre_dispatch='2*n_jobs', refit=True, return_train_score=False,\n",
       "             scoring='accuracy', verbose=0)"
      ]
     },
     "execution_count": 2,
     "metadata": {},
     "output_type": "execute_result"
    }
   ],
   "source": [
    "model = pickle.load(open(\"model.pkl\",\"rb\"))\n",
    "model"
   ]
  },
  {
   "cell_type": "markdown",
   "metadata": {},
   "source": [
    "Let's use Spotify Web API to get audio features of a new song and predicting its success with the trained model"
   ]
  },
  {
   "cell_type": "code",
   "execution_count": 4,
   "metadata": {},
   "outputs": [],
   "source": [
    "# Reading Spotify web API credentials from settings.env hidden file\n",
    "\n",
    "with open('../spotify_api/settings.env') as f:\n",
    "    env_vars = json.loads(f.read())"
   ]
  },
  {
   "cell_type": "code",
   "execution_count": 5,
   "metadata": {},
   "outputs": [],
   "source": [
    "# Set environment variables\n",
    "os.environ['SPOTIPY_CLIENT_ID'] = env_vars['SPOTIPY_CLIENT_ID']\n",
    "os.environ['SPOTIPY_CLIENT_SECRET'] = env_vars['SPOTIPY_CLIENT_SECRET']"
   ]
  },
  {
   "cell_type": "code",
   "execution_count": 6,
   "metadata": {},
   "outputs": [],
   "source": [
    "import spotipy\n",
    "from spotipy.oauth2 import SpotifyClientCredentials\n",
    "\n",
    "sp = spotipy.Spotify(client_credentials_manager=SpotifyClientCredentials())\n",
    "\n",
    "query = 'you oughta know'\n",
    "\n",
    "search = sp.search(q = query, type='track', market='US')\n",
    "\n",
    "#print('artist: ',search['tracks']['items'][0]['artists'][0]['name'], \n",
    "#      '\\nsong: ',search['tracks']['items'][0]['name'],\n",
    "#      '\\nalbum: ',search['tracks']['items'][0]['album']['name'],\n",
    "#      '\\ntrack_id: ',search['tracks']['items'][0]['id'])"
   ]
  },
  {
   "cell_type": "code",
   "execution_count": 7,
   "metadata": {},
   "outputs": [
    {
     "name": "stdout",
     "output_type": "stream",
     "text": [
      "artist:  Alanis Morissette \n",
      "song:  You Oughta Know - 2015 Remaster \n",
      "album:  Jagged Little Pill (2015 Remaster) \n",
      "track_id:  3jS7bB0oXVOwGFZn3aE5NV\n"
     ]
    }
   ],
   "source": [
    "print('artist: ',search['tracks']['items'][0]['artists'][0]['name'], \n",
    "      '\\nsong: ',search['tracks']['items'][0]['name'],\n",
    "      '\\nalbum: ',search['tracks']['items'][0]['album']['name'],\n",
    "      '\\ntrack_id: ',search['tracks']['items'][0]['id'])\n",
    "\n",
    "track_id = search['tracks']['items'][0]['id']"
   ]
  },
  {
   "cell_type": "code",
   "execution_count": 8,
   "metadata": {},
   "outputs": [
    {
     "data": {
      "text/plain": [
       "[{'danceability': 0.665,\n",
       "  'energy': 0.834,\n",
       "  'key': 4,\n",
       "  'loudness': -7.737,\n",
       "  'mode': 1,\n",
       "  'speechiness': 0.0576,\n",
       "  'acousticness': 0.21,\n",
       "  'instrumentalness': 0,\n",
       "  'liveness': 0.452,\n",
       "  'valence': 0.411,\n",
       "  'tempo': 105.292,\n",
       "  'type': 'audio_features',\n",
       "  'id': '3jS7bB0oXVOwGFZn3aE5NV',\n",
       "  'uri': 'spotify:track:3jS7bB0oXVOwGFZn3aE5NV',\n",
       "  'track_href': 'https://api.spotify.com/v1/tracks/3jS7bB0oXVOwGFZn3aE5NV',\n",
       "  'analysis_url': 'https://api.spotify.com/v1/audio-analysis/3jS7bB0oXVOwGFZn3aE5NV',\n",
       "  'duration_ms': 249493,\n",
       "  'time_signature': 4}]"
      ]
     },
     "execution_count": 8,
     "metadata": {},
     "output_type": "execute_result"
    }
   ],
   "source": [
    "audio_features = sp.audio_features(track_id)\n",
    "audio_features"
   ]
  },
  {
   "cell_type": "code",
   "execution_count": 15,
   "metadata": {},
   "outputs": [],
   "source": [
    "X = pd.json_normalize(audio_features[0])"
   ]
  },
  {
   "cell_type": "code",
   "execution_count": 16,
   "metadata": {},
   "outputs": [
    {
     "data": {
      "text/plain": [
       "pandas.core.frame.DataFrame"
      ]
     },
     "execution_count": 16,
     "metadata": {},
     "output_type": "execute_result"
    }
   ],
   "source": [
    "type(X)"
   ]
  },
  {
   "cell_type": "code",
   "execution_count": 17,
   "metadata": {},
   "outputs": [
    {
     "data": {
      "text/html": [
       "<div>\n",
       "<style scoped>\n",
       "    .dataframe tbody tr th:only-of-type {\n",
       "        vertical-align: middle;\n",
       "    }\n",
       "\n",
       "    .dataframe tbody tr th {\n",
       "        vertical-align: top;\n",
       "    }\n",
       "\n",
       "    .dataframe thead th {\n",
       "        text-align: right;\n",
       "    }\n",
       "</style>\n",
       "<table border=\"1\" class=\"dataframe\">\n",
       "  <thead>\n",
       "    <tr style=\"text-align: right;\">\n",
       "      <th></th>\n",
       "      <th>danceability</th>\n",
       "      <th>energy</th>\n",
       "      <th>key</th>\n",
       "      <th>loudness</th>\n",
       "      <th>mode</th>\n",
       "      <th>speechiness</th>\n",
       "      <th>acousticness</th>\n",
       "      <th>instrumentalness</th>\n",
       "      <th>liveness</th>\n",
       "      <th>valence</th>\n",
       "      <th>tempo</th>\n",
       "      <th>type</th>\n",
       "      <th>id</th>\n",
       "      <th>uri</th>\n",
       "      <th>track_href</th>\n",
       "      <th>analysis_url</th>\n",
       "      <th>duration_ms</th>\n",
       "      <th>time_signature</th>\n",
       "    </tr>\n",
       "  </thead>\n",
       "  <tbody>\n",
       "    <tr>\n",
       "      <th>0</th>\n",
       "      <td>0.665</td>\n",
       "      <td>0.834</td>\n",
       "      <td>4</td>\n",
       "      <td>-7.737</td>\n",
       "      <td>1</td>\n",
       "      <td>0.0576</td>\n",
       "      <td>0.21</td>\n",
       "      <td>0</td>\n",
       "      <td>0.452</td>\n",
       "      <td>0.411</td>\n",
       "      <td>105.292</td>\n",
       "      <td>audio_features</td>\n",
       "      <td>3jS7bB0oXVOwGFZn3aE5NV</td>\n",
       "      <td>spotify:track:3jS7bB0oXVOwGFZn3aE5NV</td>\n",
       "      <td>https://api.spotify.com/v1/tracks/3jS7bB0oXVOw...</td>\n",
       "      <td>https://api.spotify.com/v1/audio-analysis/3jS7...</td>\n",
       "      <td>249493</td>\n",
       "      <td>4</td>\n",
       "    </tr>\n",
       "  </tbody>\n",
       "</table>\n",
       "</div>"
      ],
      "text/plain": [
       "   danceability  energy  key  loudness  mode  speechiness  acousticness  \\\n",
       "0         0.665   0.834    4    -7.737     1       0.0576          0.21   \n",
       "\n",
       "   instrumentalness  liveness  valence    tempo            type  \\\n",
       "0                 0     0.452    0.411  105.292  audio_features   \n",
       "\n",
       "                       id                                   uri  \\\n",
       "0  3jS7bB0oXVOwGFZn3aE5NV  spotify:track:3jS7bB0oXVOwGFZn3aE5NV   \n",
       "\n",
       "                                          track_href  \\\n",
       "0  https://api.spotify.com/v1/tracks/3jS7bB0oXVOw...   \n",
       "\n",
       "                                        analysis_url  duration_ms  \\\n",
       "0  https://api.spotify.com/v1/audio-analysis/3jS7...       249493   \n",
       "\n",
       "   time_signature  \n",
       "0               4  "
      ]
     },
     "execution_count": 17,
     "metadata": {},
     "output_type": "execute_result"
    }
   ],
   "source": [
    "X"
   ]
  },
  {
   "cell_type": "markdown",
   "metadata": {},
   "source": [
    "We apply the same transformations as when we trained the model"
   ]
  },
  {
   "cell_type": "code",
   "execution_count": 20,
   "metadata": {},
   "outputs": [],
   "source": [
    "X_clean = X.drop(['type', 'id', 'uri', 'track_href', 'analysis_url'], axis=1)"
   ]
  },
  {
   "cell_type": "code",
   "execution_count": 21,
   "metadata": {},
   "outputs": [
    {
     "data": {
      "text/html": [
       "<div>\n",
       "<style scoped>\n",
       "    .dataframe tbody tr th:only-of-type {\n",
       "        vertical-align: middle;\n",
       "    }\n",
       "\n",
       "    .dataframe tbody tr th {\n",
       "        vertical-align: top;\n",
       "    }\n",
       "\n",
       "    .dataframe thead th {\n",
       "        text-align: right;\n",
       "    }\n",
       "</style>\n",
       "<table border=\"1\" class=\"dataframe\">\n",
       "  <thead>\n",
       "    <tr style=\"text-align: right;\">\n",
       "      <th></th>\n",
       "      <th>danceability</th>\n",
       "      <th>energy</th>\n",
       "      <th>key</th>\n",
       "      <th>loudness</th>\n",
       "      <th>mode</th>\n",
       "      <th>speechiness</th>\n",
       "      <th>acousticness</th>\n",
       "      <th>instrumentalness</th>\n",
       "      <th>liveness</th>\n",
       "      <th>valence</th>\n",
       "      <th>tempo</th>\n",
       "      <th>duration_ms</th>\n",
       "      <th>time_signature</th>\n",
       "    </tr>\n",
       "  </thead>\n",
       "  <tbody>\n",
       "    <tr>\n",
       "      <th>0</th>\n",
       "      <td>0.665</td>\n",
       "      <td>0.834</td>\n",
       "      <td>4</td>\n",
       "      <td>-7.737</td>\n",
       "      <td>1</td>\n",
       "      <td>0.0576</td>\n",
       "      <td>0.21</td>\n",
       "      <td>0</td>\n",
       "      <td>0.452</td>\n",
       "      <td>0.411</td>\n",
       "      <td>105.292</td>\n",
       "      <td>249493</td>\n",
       "      <td>4</td>\n",
       "    </tr>\n",
       "  </tbody>\n",
       "</table>\n",
       "</div>"
      ],
      "text/plain": [
       "   danceability  energy  key  loudness  mode  speechiness  acousticness  \\\n",
       "0         0.665   0.834    4    -7.737     1       0.0576          0.21   \n",
       "\n",
       "   instrumentalness  liveness  valence    tempo  duration_ms  time_signature  \n",
       "0                 0     0.452    0.411  105.292       249493               4  "
      ]
     },
     "execution_count": 21,
     "metadata": {},
     "output_type": "execute_result"
    }
   ],
   "source": [
    "X_clean"
   ]
  },
  {
   "cell_type": "markdown",
   "metadata": {},
   "source": [
    "Now let's find the prediction for the track with those features"
   ]
  },
  {
   "cell_type": "code",
   "execution_count": 23,
   "metadata": {},
   "outputs": [
    {
     "name": "stdout",
     "output_type": "stream",
     "text": [
      "[1.]\n"
     ]
    }
   ],
   "source": [
    "print(model.predict(X_clean))"
   ]
  },
  {
   "cell_type": "markdown",
   "metadata": {},
   "source": [
    "The result for 'You Oughta Know', a hit track from 1996, is **1, successful**."
   ]
  },
  {
   "cell_type": "markdown",
   "metadata": {},
   "source": [
    "Let's predict the success of a hit song that is already in the model"
   ]
  },
  {
   "cell_type": "code",
   "execution_count": 31,
   "metadata": {},
   "outputs": [
    {
     "name": "stdout",
     "output_type": "stream",
     "text": [
      "[1.]\n"
     ]
    }
   ],
   "source": [
    "# Trying to condense the query in one search line\n",
    "\n",
    "import spotipy\n",
    "from spotipy.oauth2 import SpotifyClientCredentials\n",
    "\n",
    "sp = spotipy.Spotify(client_credentials_manager=SpotifyClientCredentials())\n",
    "\n",
    "query = 'macarena'\n",
    "\n",
    "audio_features = sp.audio_features((sp.search(q = query, type='track', market='US'))['tracks']['items'][0]['id'])\n",
    "X = pd.json_normalize(audio_features[0])\n",
    "X_clean = X.drop(['type', 'id', 'uri', 'track_href', 'analysis_url'], axis=1)\n",
    "print(model.predict(X_clean))"
   ]
  },
  {
   "cell_type": "markdown",
   "metadata": {},
   "source": [
    "### Search with input dialog"
   ]
  },
  {
   "cell_type": "code",
   "execution_count": 53,
   "metadata": {},
   "outputs": [
    {
     "name": "stdout",
     "output_type": "stream",
     "text": [
      "Enter song name or artist + song name:\n",
      "rosalia malamente\n",
      "HOT!!!\n",
      "Probability: 88 %\n",
      "Artist:  ROSALÍA\n",
      "Song:    MALAMENTE - Cap.1: Augurio\n",
      "Album:   El Mal Querer\n",
      "Date:    2018\n",
      "https://i.scdn.co/image/ab67616d00001e02f4d64a6a6b7e24b6bd9f009f\n",
      "https://p.scdn.co/mp3-preview/c3eb3a02bd252e22b93f87af33b7e8ce94ac8c9f?cid=501b4799403a409f902c689964bf9f91\n"
     ]
    }
   ],
   "source": [
    "import pickle\n",
    "import numpy as np\n",
    "import pandas as pd\n",
    "import json\n",
    "import os\n",
    "import spotipy\n",
    "from spotipy.oauth2 import SpotifyClientCredentials\n",
    "import altair as alt\n",
    "\n",
    "model = pickle.load(open(\"model.pkl\",\"rb\"))\n",
    "\n",
    "with open('../spotify_api/settings.env') as f:\n",
    "    env_vars = json.loads(f.read())\n",
    "os.environ['SPOTIPY_CLIENT_ID'] = env_vars['SPOTIPY_CLIENT_ID']\n",
    "os.environ['SPOTIPY_CLIENT_SECRET'] = env_vars['SPOTIPY_CLIENT_SECRET']\n",
    "\n",
    "sp = spotipy.Spotify(client_credentials_manager=SpotifyClientCredentials())\n",
    "\n",
    "print('Enter song name or artist + song name:')\n",
    "\n",
    "query = input()\n",
    "\n",
    "audio_features = sp.audio_features((sp.search(q = query, type='track', market='US'))['tracks']['items'][0]['id'])\n",
    "\n",
    "#audio_features = sp.audio_features('549DBe4tw3IYPnedaz0q0J')\n",
    "\n",
    "X = pd.json_normalize(audio_features[0])\n",
    "\n",
    "X_clean = X.drop(['type', 'id', 'uri', 'track_href', 'analysis_url'], axis=1)\n",
    "\n",
    "if (model.predict(X_clean)[0])==0:\n",
    "    print('NOT HOT\\nProbability: %.0f' % ((model.predict_proba(X_clean)[0][0])*100), '%')\n",
    "else:\n",
    "    print('HOT!!!\\nProbability: %.0f' % ((model.predict_proba(X_clean)[0][1])*100), '%')\n",
    "#print(model.predict_proba(X_clean))\n",
    "\n",
    "track = sp.track( X['id'][0] )\n",
    "\n",
    "print('Artist: ', pd.json_normalize(track)['artists'][0][0]['name'])\n",
    "print('Song:   ', pd.json_normalize(track)['name'][0])\n",
    "print('Album:  ', pd.json_normalize(track)['album.name'][0])\n",
    "print('Date:   ', pd.json_normalize(track)['album.release_date'][0][0:4])\n",
    "print(pd.json_normalize(track)['album.images'][0][1]['url'])\n",
    "print(pd.json_normalize(track)['preview_url'][0])"
   ]
  },
  {
   "cell_type": "code",
   "execution_count": null,
   "metadata": {},
   "outputs": [],
   "source": []
  }
 ],
 "metadata": {
  "kernelspec": {
   "display_name": "Python 3",
   "language": "python",
   "name": "python3"
  },
  "language_info": {
   "codemirror_mode": {
    "name": "ipython",
    "version": 3
   },
   "file_extension": ".py",
   "mimetype": "text/x-python",
   "name": "python",
   "nbconvert_exporter": "python",
   "pygments_lexer": "ipython3",
   "version": "3.7.7"
  }
 },
 "nbformat": 4,
 "nbformat_minor": 4
}
